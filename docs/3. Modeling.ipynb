{
 "cells": [
  {
   "cell_type": "markdown",
   "id": "bf57b106-1ace-463e-8b71-de51e9e778aa",
   "metadata": {},
   "source": [
    "# 3. Modeling"
   ]
  },
  {
   "cell_type": "code",
   "execution_count": 4,
   "id": "9c75078a-d356-4807-a529-11ed22c44943",
   "metadata": {},
   "outputs": [],
   "source": [
    "import matplotlib.pyplot as plt\n",
    "import numpy as np\n",
    "import pandas as pd\n",
    "import seaborn as sns\n",
    "\n",
    "from sklearn.ensemble import GradientBoostingClassifier, RandomForestClassifier\n",
    "from sklearn.linear_model import LogisticRegression\n",
    "from sklearn.metrics import accuracy_score, f1_score\n",
    "from sklearn.model_selection import train_test_split\n",
    "from sklearn.preprocessing import StandardScaler"
   ]
  },
  {
   "cell_type": "code",
   "execution_count": 5,
   "id": "3fe96f3d-fd66-44b1-bc49-e82d7c28bdfa",
   "metadata": {},
   "outputs": [],
   "source": [
    "df_preprocessed = pd.read_parquet('../data/ml_dataset_preprocessed.parquet')"
   ]
  },
  {
   "cell_type": "code",
   "execution_count": 6,
   "id": "9d8d727b-030c-45fd-8acf-8028085cf620",
   "metadata": {},
   "outputs": [
    {
     "data": {
      "text/plain": [
       "5151"
      ]
     },
     "execution_count": 6,
     "metadata": {},
     "output_type": "execute_result"
    }
   ],
   "source": [
    "df_modeling = df_preprocessed.drop(columns=[f'sensor_{i}' for i in range(1, 6)]).reset_index(drop=True)\n",
    "df_modeling = df_modeling.dropna().reset_index(drop=True)\n",
    "df_modeling.shape[0]"
   ]
  },
  {
   "cell_type": "code",
   "execution_count": 7,
   "id": "dfedab1c-10d2-44e1-a147-139d9104c446",
   "metadata": {},
   "outputs": [],
   "source": [
    "X = df_modeling.drop(columns=['device_id', 'timestamp', 'label'])\n",
    "y = df_modeling.label"
   ]
  },
  {
   "cell_type": "code",
   "execution_count": 8,
   "id": "a1696817-cfa1-4991-badf-e2c66a485053",
   "metadata": {},
   "outputs": [],
   "source": [
    "X_train, X_test, y_train, y_test = train_test_split(X, y, test_size=0.25, random_state=42)"
   ]
  },
  {
   "cell_type": "code",
   "execution_count": 9,
   "id": "fe40d021-85b1-4bf4-a9dc-98d19cc77fec",
   "metadata": {},
   "outputs": [],
   "source": [
    "sc = StandardScaler()\n",
    "X_train = sc.fit_transform(X_train)\n",
    "X_test = sc.transform(X_test)"
   ]
  },
  {
   "cell_type": "code",
   "execution_count": 10,
   "id": "ab2065b2-1471-43ca-ab33-9d38d3ee7f58",
   "metadata": {},
   "outputs": [],
   "source": [
    "gradient_boosting = GradientBoostingClassifier(random_state=42)\n",
    "logistic_regression = LogisticRegression(solver='lbfgs', random_state=42)\n",
    "random_forest = RandomForestClassifier(random_state=42)"
   ]
  },
  {
   "cell_type": "code",
   "execution_count": 11,
   "id": "adbcc820-06af-4de8-b4c9-56416c5b510b",
   "metadata": {},
   "outputs": [
    {
     "data": {
      "text/plain": [
       "RandomForestClassifier(random_state=42)"
      ]
     },
     "execution_count": 11,
     "metadata": {},
     "output_type": "execute_result"
    }
   ],
   "source": [
    "gradient_boosting.fit(X_train, y_train)\n",
    "logistic_regression.fit(X_train, y_train)\n",
    "random_forest.fit(X_train, y_train)"
   ]
  },
  {
   "cell_type": "code",
   "execution_count": 12,
   "id": "231f7717-2511-472a-bcae-7f74b3a4fe14",
   "metadata": {},
   "outputs": [],
   "source": [
    "y_pred_gb = gradient_boosting.predict(X_test)\n",
    "y_pred_lr = logistic_regression.predict(X_test)\n",
    "y_pred_rf = random_forest.predict(X_test)"
   ]
  },
  {
   "cell_type": "code",
   "execution_count": 13,
   "id": "89c20b0c-a9a2-4327-baf9-4defffcdb719",
   "metadata": {},
   "outputs": [
    {
     "name": "stdout",
     "output_type": "stream",
     "text": [
      "--- Gradient Boosting ---\n",
      "Accuracy: 0.9752\n",
      "F1 (weighted): 0.9751\n",
      "\n",
      "--- Logistic Regression ---\n",
      "Accuracy: 0.9736\n",
      "F1 (weighted): 0.9736\n",
      "\n",
      "--- Random Forest ---\n",
      "Accuracy: 0.9744\n",
      "F1 (weighted): 0.9743\n"
     ]
    }
   ],
   "source": [
    "print('--- Gradient Boosting ---')\n",
    "print(f\"Accuracy: {round(accuracy_score(y_test, y_pred_gb), 4)}\")\n",
    "print(f\"F1 (weighted): {round(f1_score(y_test, y_pred_gb, average='weighted'), 4)}\")\n",
    "print('')\n",
    "print('--- Logistic Regression ---')\n",
    "print(f\"Accuracy: {round(accuracy_score(y_test, y_pred_lr), 4)}\")\n",
    "print(f\"F1 (weighted): {round(f1_score(y_test, y_pred_lr, average='weighted'), 4)}\")\n",
    "print('')\n",
    "print('--- Random Forest ---')\n",
    "print(f\"Accuracy: {round(accuracy_score(y_test, y_pred_rf), 4)}\")\n",
    "print(f\"F1 (weighted): {round(f1_score(y_test, y_pred_rf, average='weighted'), 4)}\")"
   ]
  }
 ],
 "metadata": {
  "kernelspec": {
   "display_name": "pdn-monitoring",
   "language": "python",
   "name": "pdn-monitoring"
  },
  "language_info": {
   "codemirror_mode": {
    "name": "ipython",
    "version": 3
   },
   "file_extension": ".py",
   "mimetype": "text/x-python",
   "name": "python",
   "nbconvert_exporter": "python",
   "pygments_lexer": "ipython3",
   "version": "3.8.9"
  }
 },
 "nbformat": 4,
 "nbformat_minor": 5
}
