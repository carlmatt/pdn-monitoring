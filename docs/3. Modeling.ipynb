{
 "cells": [
  {
   "cell_type": "markdown",
   "id": "bf57b106-1ace-463e-8b71-de51e9e778aa",
   "metadata": {},
   "source": [
    "# 3. Modeling"
   ]
  },
  {
   "cell_type": "markdown",
   "id": "ee70b319-9821-4a22-bfe9-68cb0983566e",
   "metadata": {},
   "source": [
    "In this section, I develop the models that will be used to understand in which state an asset is.\n",
    "\n",
    "I have picked four models that based on my experience should perform quite well in cases such like these:\n",
    "\n",
    "- Gradient boosting classifier\n",
    "- Logistic regression\n",
    "- Random forest classifier\n",
    "- Support vector classifier"
   ]
  },
  {
   "cell_type": "code",
   "execution_count": 1,
   "id": "9c75078a-d356-4807-a529-11ed22c44943",
   "metadata": {},
   "outputs": [],
   "source": [
    "import datetime\n",
    "\n",
    "import joblib\n",
    "import matplotlib.pyplot as plt\n",
    "import numpy as np\n",
    "import pandas as pd\n",
    "import seaborn as sns\n",
    "\n",
    "from sklearn.ensemble import GradientBoostingClassifier, RandomForestClassifier\n",
    "from sklearn.linear_model import LogisticRegression\n",
    "from sklearn.metrics import accuracy_score, f1_score\n",
    "from sklearn.model_selection import train_test_split\n",
    "from sklearn.preprocessing import StandardScaler\n",
    "from sklearn.svm import SVC"
   ]
  },
  {
   "cell_type": "markdown",
   "id": "6e1a9499-971b-4114-80a2-e01da240743d",
   "metadata": {},
   "source": [
    "## Loading the data"
   ]
  },
  {
   "cell_type": "markdown",
   "id": "5739deb8-7d0d-4640-a933-12673131c907",
   "metadata": {},
   "source": [
    "I start by loading the preprocessed dataset."
   ]
  },
  {
   "cell_type": "code",
   "execution_count": 2,
   "id": "3fe96f3d-fd66-44b1-bc49-e82d7c28bdfa",
   "metadata": {},
   "outputs": [],
   "source": [
    "df_in = pd.read_parquet('../data/ml_dataset_preprocessed.parquet')"
   ]
  },
  {
   "cell_type": "code",
   "execution_count": 3,
   "id": "2e07e6d8-023a-4740-87a6-ce915e0558f9",
   "metadata": {},
   "outputs": [
    {
     "data": {
      "text/html": [
       "<div>\n",
       "<style scoped>\n",
       "    .dataframe tbody tr th:only-of-type {\n",
       "        vertical-align: middle;\n",
       "    }\n",
       "\n",
       "    .dataframe tbody tr th {\n",
       "        vertical-align: top;\n",
       "    }\n",
       "\n",
       "    .dataframe thead th {\n",
       "        text-align: right;\n",
       "    }\n",
       "</style>\n",
       "<table border=\"1\" class=\"dataframe\">\n",
       "  <thead>\n",
       "    <tr style=\"text-align: right;\">\n",
       "      <th></th>\n",
       "      <th>timestamp</th>\n",
       "      <th>device_id</th>\n",
       "      <th>voltage_freq_100</th>\n",
       "      <th>current_freq_50</th>\n",
       "      <th>current_freq_100</th>\n",
       "      <th>sensor_0</th>\n",
       "      <th>label</th>\n",
       "    </tr>\n",
       "  </thead>\n",
       "  <tbody>\n",
       "    <tr>\n",
       "      <th>0</th>\n",
       "      <td>2020-04-05 23:00:00</td>\n",
       "      <td>158-000001956</td>\n",
       "      <td>3252.048729</td>\n",
       "      <td>516.200228</td>\n",
       "      <td>913.682622</td>\n",
       "      <td>24.148984</td>\n",
       "      <td>NaN</td>\n",
       "    </tr>\n",
       "    <tr>\n",
       "      <th>1</th>\n",
       "      <td>2020-01-15 16:30:00</td>\n",
       "      <td>158-000001326</td>\n",
       "      <td>-2128.635770</td>\n",
       "      <td>2510.892530</td>\n",
       "      <td>-70.144148</td>\n",
       "      <td>24.993833</td>\n",
       "      <td>NaN</td>\n",
       "    </tr>\n",
       "    <tr>\n",
       "      <th>2</th>\n",
       "      <td>2020-02-17 17:00:00</td>\n",
       "      <td>158-000000560</td>\n",
       "      <td>7452.666192</td>\n",
       "      <td>3750.525426</td>\n",
       "      <td>1705.408684</td>\n",
       "      <td>24.811650</td>\n",
       "      <td>NaN</td>\n",
       "    </tr>\n",
       "    <tr>\n",
       "      <th>3</th>\n",
       "      <td>2020-01-21 18:00:00</td>\n",
       "      <td>158-000000675</td>\n",
       "      <td>8348.201652</td>\n",
       "      <td>2755.585174</td>\n",
       "      <td>1308.747909</td>\n",
       "      <td>26.730441</td>\n",
       "      <td>NaN</td>\n",
       "    </tr>\n",
       "    <tr>\n",
       "      <th>4</th>\n",
       "      <td>2020-01-20 07:00:00</td>\n",
       "      <td>158-000001159</td>\n",
       "      <td>-2397.839620</td>\n",
       "      <td>3755.709244</td>\n",
       "      <td>-165.533040</td>\n",
       "      <td>24.530614</td>\n",
       "      <td>NaN</td>\n",
       "    </tr>\n",
       "  </tbody>\n",
       "</table>\n",
       "</div>"
      ],
      "text/plain": [
       "            timestamp      device_id  voltage_freq_100  current_freq_50  \\\n",
       "0 2020-04-05 23:00:00  158-000001956       3252.048729       516.200228   \n",
       "1 2020-01-15 16:30:00  158-000001326      -2128.635770      2510.892530   \n",
       "2 2020-02-17 17:00:00  158-000000560       7452.666192      3750.525426   \n",
       "3 2020-01-21 18:00:00  158-000000675       8348.201652      2755.585174   \n",
       "4 2020-01-20 07:00:00  158-000001159      -2397.839620      3755.709244   \n",
       "\n",
       "   current_freq_100   sensor_0  label  \n",
       "0        913.682622  24.148984    NaN  \n",
       "1        -70.144148  24.993833    NaN  \n",
       "2       1705.408684  24.811650    NaN  \n",
       "3       1308.747909  26.730441    NaN  \n",
       "4       -165.533040  24.530614    NaN  "
      ]
     },
     "execution_count": 3,
     "metadata": {},
     "output_type": "execute_result"
    }
   ],
   "source": [
    "df_in.head()"
   ]
  },
  {
   "cell_type": "markdown",
   "id": "1946cbdf-8f79-4594-aa2a-fb477851ebdd",
   "metadata": {},
   "source": [
    "For this supervised learning problem, we need labeled data. I therefore drop the unlabeled data.\n",
    "\n",
    "Another (or an additional) alternative could be to use the labels that I generated in the clustering phase. However, to keep this brief, I will not use that approach."
   ]
  },
  {
   "cell_type": "code",
   "execution_count": 4,
   "id": "9d8d727b-030c-45fd-8acf-8028085cf620",
   "metadata": {},
   "outputs": [
    {
     "data": {
      "text/plain": [
       "(5151, 7)"
      ]
     },
     "execution_count": 4,
     "metadata": {},
     "output_type": "execute_result"
    }
   ],
   "source": [
    "df_modeling = df_in.dropna().reset_index(drop=True)\n",
    "df_modeling.shape"
   ]
  },
  {
   "cell_type": "code",
   "execution_count": 5,
   "id": "dcdd5c3d-caee-4e2d-a305-9cd07f7958bb",
   "metadata": {},
   "outputs": [
    {
     "data": {
      "text/html": [
       "<div>\n",
       "<style scoped>\n",
       "    .dataframe tbody tr th:only-of-type {\n",
       "        vertical-align: middle;\n",
       "    }\n",
       "\n",
       "    .dataframe tbody tr th {\n",
       "        vertical-align: top;\n",
       "    }\n",
       "\n",
       "    .dataframe thead th {\n",
       "        text-align: right;\n",
       "    }\n",
       "</style>\n",
       "<table border=\"1\" class=\"dataframe\">\n",
       "  <thead>\n",
       "    <tr style=\"text-align: right;\">\n",
       "      <th></th>\n",
       "      <th>timestamp</th>\n",
       "      <th>device_id</th>\n",
       "      <th>voltage_freq_100</th>\n",
       "      <th>current_freq_50</th>\n",
       "      <th>current_freq_100</th>\n",
       "      <th>sensor_0</th>\n",
       "      <th>label</th>\n",
       "    </tr>\n",
       "  </thead>\n",
       "  <tbody>\n",
       "    <tr>\n",
       "      <th>0</th>\n",
       "      <td>2020-02-24 04:00:00</td>\n",
       "      <td>158-000001415</td>\n",
       "      <td>6092.428085</td>\n",
       "      <td>252.875610</td>\n",
       "      <td>168.653323</td>\n",
       "      <td>16.735673</td>\n",
       "      <td>1.0</td>\n",
       "    </tr>\n",
       "    <tr>\n",
       "      <th>1</th>\n",
       "      <td>2020-01-22 02:30:00</td>\n",
       "      <td>158-000000675</td>\n",
       "      <td>6970.122300</td>\n",
       "      <td>3754.772438</td>\n",
       "      <td>1492.381809</td>\n",
       "      <td>30.359791</td>\n",
       "      <td>2.0</td>\n",
       "    </tr>\n",
       "    <tr>\n",
       "      <th>2</th>\n",
       "      <td>2020-04-01 03:00:00</td>\n",
       "      <td>158-000001005</td>\n",
       "      <td>-1919.316936</td>\n",
       "      <td>6183.555871</td>\n",
       "      <td>-286.589098</td>\n",
       "      <td>24.864819</td>\n",
       "      <td>3.0</td>\n",
       "    </tr>\n",
       "    <tr>\n",
       "      <th>3</th>\n",
       "      <td>2020-01-18 02:00:00</td>\n",
       "      <td>158-000001326</td>\n",
       "      <td>1453.100948</td>\n",
       "      <td>495.627072</td>\n",
       "      <td>505.063684</td>\n",
       "      <td>23.031433</td>\n",
       "      <td>1.0</td>\n",
       "    </tr>\n",
       "    <tr>\n",
       "      <th>4</th>\n",
       "      <td>2020-01-21 11:00:00</td>\n",
       "      <td>158-000000099</td>\n",
       "      <td>7886.164607</td>\n",
       "      <td>1002.673685</td>\n",
       "      <td>1400.965902</td>\n",
       "      <td>28.464941</td>\n",
       "      <td>2.0</td>\n",
       "    </tr>\n",
       "  </tbody>\n",
       "</table>\n",
       "</div>"
      ],
      "text/plain": [
       "            timestamp      device_id  voltage_freq_100  current_freq_50  \\\n",
       "0 2020-02-24 04:00:00  158-000001415       6092.428085       252.875610   \n",
       "1 2020-01-22 02:30:00  158-000000675       6970.122300      3754.772438   \n",
       "2 2020-04-01 03:00:00  158-000001005      -1919.316936      6183.555871   \n",
       "3 2020-01-18 02:00:00  158-000001326       1453.100948       495.627072   \n",
       "4 2020-01-21 11:00:00  158-000000099       7886.164607      1002.673685   \n",
       "\n",
       "   current_freq_100   sensor_0  label  \n",
       "0        168.653323  16.735673    1.0  \n",
       "1       1492.381809  30.359791    2.0  \n",
       "2       -286.589098  24.864819    3.0  \n",
       "3        505.063684  23.031433    1.0  \n",
       "4       1400.965902  28.464941    2.0  "
      ]
     },
     "execution_count": 5,
     "metadata": {},
     "output_type": "execute_result"
    }
   ],
   "source": [
    "df_modeling.head()"
   ]
  },
  {
   "cell_type": "markdown",
   "id": "1f6464a1-f116-4f3e-93bf-3d1d9113238b",
   "metadata": {},
   "source": [
    "I separate the features and the target (i.e. the label). Also, I drop the device_id and timestamp as these will not be used for modeling purposes."
   ]
  },
  {
   "cell_type": "code",
   "execution_count": 6,
   "id": "cfc0bee0-65eb-4ea3-964f-e42903847ba5",
   "metadata": {},
   "outputs": [],
   "source": [
    "X = df_modeling.drop(columns=['device_id', 'timestamp', 'label'])\n",
    "y = df_modeling.label"
   ]
  },
  {
   "cell_type": "markdown",
   "id": "e4b5660f-6cbf-4b18-88d7-267b63651ebd",
   "metadata": {},
   "source": [
    "## Train and test datasets"
   ]
  },
  {
   "cell_type": "markdown",
   "id": "18d6b04d-6bfe-46b8-9622-509e369ebe2e",
   "metadata": {},
   "source": [
    "I split the data into a training set consisting of 75% of the observations, and an out-of-sample test set of 25%.\n",
    "\n",
    "There are more thorough approaches to evaluating the model performance. In order to keep this brief, however, I will not take these approaches. Here are two of them:\n",
    "\n",
    "__Cross-Validation__\n",
    "\n",
    "- See [this link](https://scikit-learn.org/stable/modules/cross_validation.html) for a good overview of cross-validation and different approaches.\n",
    "\n",
    "__Using both out-of-sample and out-of-time samples to validate the models__\n",
    "\n",
    "- Out-of-sample sampling refers to the approach of randomly drawing test samples from the entire population.\n",
    "- In out-of-time sampling, you split the dataset into two parts based on the timestamp of the observation: in-time and out-of-time. You then use the in-time sample to train the model and the out-of-time sample to test the model.\n",
    "- It is good to use out-of-time sampling when you are dealing with time series. In this specific case, we could use out-of-time sampling to see if the behavior of the assets have changed in general over time."
   ]
  },
  {
   "cell_type": "code",
   "execution_count": 7,
   "id": "a1696817-cfa1-4991-badf-e2c66a485053",
   "metadata": {},
   "outputs": [],
   "source": [
    "X_train, X_test, y_train, y_test = train_test_split(X, y, test_size=0.25, random_state=42)"
   ]
  },
  {
   "cell_type": "markdown",
   "id": "8f600f61-af52-475b-bd09-1bee78b2311c",
   "metadata": {},
   "source": [
    "## Standardizing the data"
   ]
  },
  {
   "cell_type": "markdown",
   "id": "1ffbffbd-3a37-4c70-8d95-e93de4745bc7",
   "metadata": {},
   "source": [
    "The sensor data is on a different scale compared to the Fourier Transformed data. I therefore standardize the dataset so that one or more features don't get an overly big weight during the model estimation."
   ]
  },
  {
   "cell_type": "code",
   "execution_count": 8,
   "id": "fe40d021-85b1-4bf4-a9dc-98d19cc77fec",
   "metadata": {},
   "outputs": [],
   "source": [
    "sc = StandardScaler()\n",
    "X_train = sc.fit_transform(X_train)\n",
    "X_test = sc.transform(X_test)"
   ]
  },
  {
   "cell_type": "markdown",
   "id": "ad9edbf5-aafa-49f8-a58d-1008ad6e197a",
   "metadata": {},
   "source": [
    "## Estimating the models"
   ]
  },
  {
   "cell_type": "markdown",
   "id": "3f40e373-d403-4396-a5b5-4876b26224eb",
   "metadata": {},
   "source": [
    "I estimate the models using their standard parameters. In a real-world setting, I would use parameter tuning to improve the model performance. Some good approaches are described [here](https://scikit-learn.org/stable/modules/grid_search.html). My personal favorite is RandomizedSearchCV.\n",
    "\n",
    "Another (lazy) approach would be to use [TPOT](http://epistasislab.github.io/tpot/) to find the absolute best performing model. TPOT is resource-heavy though, and may not be good for the planet, your pockets or with big datasets.\n",
    "\n",
    "Another fun approach would be to use a neural network approach, but as the dataset is fairly small and training a neural network requires some effort, the rewards would probably not match the efforts."
   ]
  },
  {
   "cell_type": "code",
   "execution_count": 9,
   "id": "ab2065b2-1471-43ca-ab33-9d38d3ee7f58",
   "metadata": {},
   "outputs": [],
   "source": [
    "gradient_boosting = GradientBoostingClassifier(random_state=42)\n",
    "logistic_regression = LogisticRegression(solver='lbfgs', random_state=42)\n",
    "random_forest = RandomForestClassifier(random_state=42)\n",
    "support_vector = SVC(random_state=42)\n",
    "\n",
    "gradient_boosting.fit(X_train, y_train)\n",
    "logistic_regression.fit(X_train, y_train)\n",
    "random_forest.fit(X_train, y_train)\n",
    "support_vector.fit(X_train, y_train)\n",
    "\n",
    "y_pred_gb = gradient_boosting.predict(X_test)\n",
    "y_pred_lr = logistic_regression.predict(X_test)\n",
    "y_pred_rf = random_forest.predict(X_test)\n",
    "y_pred_sv = support_vector.predict(X_test)"
   ]
  },
  {
   "cell_type": "markdown",
   "id": "2c57c579-ef75-45d1-8bb5-b63ae9bb87fb",
   "metadata": {},
   "source": [
    "## Evaluating the models"
   ]
  },
  {
   "cell_type": "code",
   "execution_count": 10,
   "id": "58517204-fcb0-48e9-a652-05f5c4042272",
   "metadata": {},
   "outputs": [
    {
     "name": "stdout",
     "output_type": "stream",
     "text": [
      "--- Gradient Boosting ---\n",
      "Accuracy: 0.9736\n",
      "F1 (weighted): 0.9736\n",
      "\n",
      "--- Logistic Regression ---\n",
      "Accuracy: 0.9752\n",
      "F1 (weighted): 0.9751\n",
      "\n",
      "--- Random Forest ---\n",
      "Accuracy: 0.9798\n",
      "F1 (weighted): 0.9798\n",
      "\n",
      "--- Support Vector ---\n",
      "Accuracy: 0.9767\n",
      "F1 (weighted): 0.9767\n"
     ]
    }
   ],
   "source": [
    "print('--- Gradient Boosting ---')\n",
    "print(f\"Accuracy: {round(accuracy_score(y_test, y_pred_gb), 4)}\")\n",
    "print(f\"F1 (weighted): {round(f1_score(y_test, y_pred_gb, average='weighted'), 4)}\")\n",
    "print('')\n",
    "print('--- Logistic Regression ---')\n",
    "print(f\"Accuracy: {round(accuracy_score(y_test, y_pred_lr), 4)}\")\n",
    "print(f\"F1 (weighted): {round(f1_score(y_test, y_pred_lr, average='weighted'), 4)}\")\n",
    "print('')\n",
    "print('--- Random Forest ---')\n",
    "print(f\"Accuracy: {round(accuracy_score(y_test, y_pred_rf), 4)}\")\n",
    "print(f\"F1 (weighted): {round(f1_score(y_test, y_pred_rf, average='weighted'), 4)}\")\n",
    "print('')\n",
    "print('--- Support Vector ---')\n",
    "print(f\"Accuracy: {round(accuracy_score(y_test, y_pred_sv), 4)}\")\n",
    "print(f\"F1 (weighted): {round(f1_score(y_test, y_pred_sv, average='weighted'), 4)}\")"
   ]
  },
  {
   "cell_type": "markdown",
   "id": "5ca2e5b6-a420-4c77-8261-21d27ed0981c",
   "metadata": {},
   "source": [
    "The models achieve some pretty good accuracies. The random forest model performs the best, followed by the support vector model, the logistic regression model and the gradient boosting model.\n",
    "\n",
    "I will add support for using any of these models in the python application, but the support vector model will be used by default."
   ]
  },
  {
   "cell_type": "markdown",
   "id": "f74040ed-43f3-42d8-a5de-cd544d2cc0fe",
   "metadata": {},
   "source": [
    "In real life, one should analyze more thoroughly how the model works. For complex, more \"black box\" models, some common approaches are:\n",
    "\n",
    "- [Shap](https://github.com/slundberg/shap)\n",
    "- [Lime](https://github.com/marcotcr/lime)\n",
    "\n",
    "In this exercise, however, I will limit myself to the feature importances of the random forest model, which are shown below."
   ]
  },
  {
   "cell_type": "code",
   "execution_count": 11,
   "id": "44b5f9dc-21c0-4d3d-b83a-2c18d7a5f738",
   "metadata": {},
   "outputs": [
    {
     "name": "stdout",
     "output_type": "stream",
     "text": [
      "Feature ranking:\n",
      "1. voltage_freq_100 (0.420262)\n",
      "2. current_freq_50 (0.325225)\n",
      "3. current_freq_100 (0.232188)\n",
      "4. sensor_0 (0.022325)\n"
     ]
    },
    {
     "data": {
      "image/png": "[encoded data removed]",
      "text/plain": [
       "<Figure size 432x288 with 1 Axes>"
      ]
     },
     "metadata": {
      "needs_background": "light"
     },
     "output_type": "display_data"
    }
   ],
   "source": [
    "importances = random_forest.feature_importances_\n",
    "std = np.std([tree.feature_importances_ for tree in random_forest.estimators_],\n",
    "             axis=0)\n",
    "indices = np.argsort(importances)[::-1]\n",
    "\n",
    "# Print the feature ranking\n",
    "print(\"Feature ranking:\")\n",
    "\n",
    "for f in range(X.shape[1]):\n",
    "    print(f\"{f + 1}. {X.columns[f]} ({round(importances[indices[f]], 6)})\")\n",
    "\n",
    "# Plot the impurity-based feature importances of the forest\n",
    "plt.figure()\n",
    "plt.title(\"Feature importances\")\n",
    "plt.bar(range(X.shape[1]), importances[indices],\n",
    "        color=\"r\", yerr=std[indices], align=\"center\")\n",
    "plt.xticks(range(X.shape[1]), [X.columns[i] for i in indices], rotation=45)\n",
    "plt.xlim([-1, X.shape[1]])\n",
    "plt.show()"
   ]
  },
  {
   "cell_type": "markdown",
   "id": "66a5c1a3-caa7-45ff-9805-5acb3c6ebfe9",
   "metadata": {},
   "source": [
    "Here we can see that the most important features are the current and voltage frequencies of 100Hz and sensor 0. The current frequency of 50Hz is far less important."
   ]
  },
  {
   "cell_type": "markdown",
   "id": "7a739536-745e-44f3-b7c9-5a1ff1c697c3",
   "metadata": {},
   "source": [
    "## Exporting the model artifacts"
   ]
  },
  {
   "cell_type": "markdown",
   "id": "e52c8aa0-1f29-4729-a58d-58cafe075c72",
   "metadata": {},
   "source": [
    "I export the model artifacts so that they can be used in the python application."
   ]
  },
  {
   "cell_type": "code",
   "execution_count": 12,
   "id": "4b56c19b-ea70-48fc-88a5-96d2ce99de5e",
   "metadata": {},
   "outputs": [
    {
     "data": {
      "text/plain": [
       "['../pdn_monitoring/models/support_vector_2021_04_19.joblib']"
      ]
     },
     "execution_count": 12,
     "metadata": {},
     "output_type": "execute_result"
    }
   ],
   "source": [
    "date = datetime.datetime.utcnow().strftime('%Y_%m_%d')\n",
    "joblib.dump(gradient_boosting, f'../pdn_monitoring/models/gradient_boosting_{date}.joblib')\n",
    "joblib.dump(logistic_regression, f'../pdn_monitoring/models/logistic_regression_{date}.joblib')\n",
    "joblib.dump(random_forest, f'../pdn_monitoring/models/random_forest_{date}.joblib')\n",
    "joblib.dump(support_vector, f'../pdn_monitoring/models/support_vector_{date}.joblib')"
   ]
  }
 ],
 "metadata": {
  "kernelspec": {
   "display_name": "pdn-monitoring",
   "language": "python",
   "name": "pdn-monitoring"
  },
  "language_info": {
   "codemirror_mode": {
    "name": "ipython",
    "version": 3
   },
   "file_extension": ".py",
   "mimetype": "text/x-python",
   "name": "python",
   "nbconvert_exporter": "python",
   "pygments_lexer": "ipython3",
   "version": "3.8.9"
  }
 },
 "nbformat": 4,
 "nbformat_minor": 5
}
