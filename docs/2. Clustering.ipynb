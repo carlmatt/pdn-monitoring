{
 "cells": [
  {
   "cell_type": "markdown",
   "id": "1c5159ae-313d-4b12-a567-cef5eb1bdb0a",
   "metadata": {},
   "source": [
    "# 2. Clustering"
   ]
  },
  {
   "cell_type": "code",
   "execution_count": 1,
   "id": "e75d5fb2-32e5-46ee-9b97-1762f2dc8a6c",
   "metadata": {},
   "outputs": [],
   "source": [
    "import matplotlib.pyplot as plt\n",
    "import numpy as np\n",
    "import pandas as pd\n",
    "import seaborn as sns\n",
    "\n",
    "import scipy.cluster.hierarchy as sch\n",
    "from sklearn.cluster import KMeans\n",
    "from sklearn.preprocessing import StandardScaler"
   ]
  },
  {
   "cell_type": "code",
   "execution_count": 2,
   "id": "1decd7a7-e6cc-4be9-8764-c58cecf29450",
   "metadata": {},
   "outputs": [],
   "source": [
    "df_preprocessed = pd.read_parquet('../data/ml_dataset_preprocessed.parquet')"
   ]
  },
  {
   "cell_type": "markdown",
   "id": "a13cce54-35ad-4956-b4be-50961068c074",
   "metadata": {},
   "source": [
    "The expert has generated four different labels. In order to test that this is reasonable, and also in order to evaluate the labeling of the expert, we will use clustering to study what number of states would be reasonable.\n",
    "\n",
    "In the clustering, we used the Fourier Transformed voltage and current data. In addition, we will use the sensor_0 data as it seems to be correlated with the states. We will not use sensor_1 ... sensor_5 as they don't seem to include much relevant information for our purpose.\n",
    "\n",
    "We will perform the cluster on both the full dataset, and on the labeled dataset only"
   ]
  },
  {
   "cell_type": "markdown",
   "id": "b4c033f7-6a68-45ef-8077-9b93b348541f",
   "metadata": {},
   "source": [
    "## The full dataset"
   ]
  },
  {
   "cell_type": "markdown",
   "id": "e15fa11c-72de-4a0f-a4c0-a6a5f17915c8",
   "metadata": {},
   "source": [
    "The full dataset consists of both labeled and unlabeled data. Some data points have been dropped as they contained empty values. See the preprocessing document for more details.\n",
    "\n",
    "We need to include the _dropna_ method here because the sensor_0 field contains some null values, which we didn't handle during the preprocessing phase. For more details, see the preprocessing document."
   ]
  },
  {
   "cell_type": "code",
   "execution_count": 3,
   "id": "05378ac2-997d-4a37-9e0f-2e929a8bb8e1",
   "metadata": {},
   "outputs": [],
   "source": [
    "df_clustering_full = df_preprocessed.iloc[:, :21].dropna().reset_index(drop=True)"
   ]
  },
  {
   "cell_type": "code",
   "execution_count": 4,
   "id": "51041b64-0939-4172-8b44-4edbdce5396e",
   "metadata": {},
   "outputs": [],
   "source": [
    "sc = StandardScaler()\n",
    "df_clustering_full_scaled = pd.DataFrame(sc.fit_transform(df_clustering_full), columns=df_clustering_full.columns)"
   ]
  },
  {
   "cell_type": "markdown",
   "id": "7a9ee2de-adfe-4f08-8d8f-8ca0af09b1e7",
   "metadata": {},
   "source": [
    "### K-Means Clustering"
   ]
  },
  {
   "cell_type": "markdown",
   "id": "34e08aba-b540-432e-827a-a814059fbf22",
   "metadata": {},
   "source": [
    "Our primary choice of clustering method is K-Means Clustering. To determine the appropriate number of clusters, the \"elbow method\" will be used. The elbow method is described in detail in [this Wikipedia article](https://en.wikipedia.org/wiki/Elbow_method_(clustering)). WCSS below stands for \"within-clusters sum of squares\"."
   ]
  },
  {
   "cell_type": "code",
   "execution_count": 5,
   "id": "ef78a39d-93ca-4212-8cf8-8d13b9116e4a",
   "metadata": {},
   "outputs": [
    {
     "data": {
      "image/png": "[encoded data removed]",
      "text/plain": [
       "<Figure size 432x288 with 1 Axes>"
      ]
     },
     "metadata": {
      "needs_background": "light"
     },
     "output_type": "display_data"
    }
   ],
   "source": [
    "wcss = []\n",
    "max_clusters = 10\n",
    "for i in range(1, max_clusters + 1):\n",
    "    kmeans = KMeans(n_clusters=i, init='k-means++', random_state=42)\n",
    "    kmeans.fit(df_clustering_full_scaled)\n",
    "    wcss.append(kmeans.inertia_)\n",
    "\n",
    "plt.plot(range(1, max_clusters + 1), wcss)\n",
    "plt.show()"
   ]
  },
  {
   "cell_type": "markdown",
   "id": "4075b79a-523f-4a2c-93a0-f713c8773487",
   "metadata": {},
   "source": [
    "Based on the elbow method, using four labels seems justifiable. It can be argued whether the \"elbow\" is at two, three or four clusters, but there is nothing plainly wrong with using four labels."
   ]
  },
  {
   "cell_type": "markdown",
   "id": "e7dda250-b76b-426d-affd-68be258d259d",
   "metadata": {},
   "source": [
    "### Hierarchical clustering"
   ]
  },
  {
   "cell_type": "markdown",
   "id": "27973124-b6bd-4fc8-bf45-32a3457ba5ec",
   "metadata": {},
   "source": [
    "In this exercise, we will only use hierarchical clustering to validate (or invalidate) our K-Means Clustering findings. We will inspect the dendrogram of the hierarchical clustering, and use Euclidean distances to determine what the appropriate amount of clusters should be. We will use the Ward variance minimization algorithm. For more information, see [SciPy's documentation](https://docs.scipy.org/doc/scipy/reference/generated/scipy.cluster.hierarchy.linkage.html).\n",
    "\n",
    "Running this with the full dataset takes some time."
   ]
  },
  {
   "cell_type": "code",
   "execution_count": null,
   "id": "d65df3ad-d02e-4956-ad16-c22667ec17f7",
   "metadata": {},
   "outputs": [],
   "source": [
    "dendrogram = sch.dendrogram(sch.linkage(df_clustering_full_scaled, method='ward'))\n",
    "plt.title('Dendrogram')\n",
    "plt.ylabel('Euclidean distance')\n",
    "plt.show()"
   ]
  },
  {
   "cell_type": "markdown",
   "id": "169a08c1-b73f-4b86-be65-e5ed1b0d87f0",
   "metadata": {},
   "source": [
    "The dendrogram partially validates our K-Means Clustering findings. The optimal number of clusters could be four, but it may also be two or three."
   ]
  },
  {
   "cell_type": "markdown",
   "id": "4b9b8a99-3afa-4de3-8dbd-0e443e6fe925",
   "metadata": {},
   "source": [
    "## The labeled dataset"
   ]
  },
  {
   "cell_type": "markdown",
   "id": "944fa06e-8cb7-4fd2-8f1d-c898800cba9f",
   "metadata": {},
   "source": [
    "### K-Means Clustering"
   ]
  },
  {
   "cell_type": "code",
   "execution_count": 6,
   "id": "7c4f830a-78c8-4293-bbc7-989d0badcecc",
   "metadata": {},
   "outputs": [],
   "source": [
    "df_clustering_labeled = df_preprocessed.dropna(subset=['label', 'sensor_0']).iloc[:, :21].reset_index(drop=True)"
   ]
  },
  {
   "cell_type": "code",
   "execution_count": 10,
   "id": "fba82a1d-1649-4a22-a90c-d8310c94a2e6",
   "metadata": {},
   "outputs": [],
   "source": [
    "sc = StandardScaler()\n",
    "df_clustering_labeled_scaled = pd.DataFrame(sc.fit_transform(df_clustering_labeled), columns=df_clustering_labeled.columns)"
   ]
  },
  {
   "cell_type": "code",
   "execution_count": 8,
   "id": "8be23598-0648-4a6b-a2b9-99d0789fb22b",
   "metadata": {},
   "outputs": [
    {
     "data": {
      "image/png": "[encoded data removed]",
      "text/plain": [
       "<Figure size 432x288 with 1 Axes>"
      ]
     },
     "metadata": {
      "needs_background": "light"
     },
     "output_type": "display_data"
    }
   ],
   "source": [
    "wcss = []\n",
    "max_clusters = 10\n",
    "for i in range(1, max_clusters + 1):\n",
    "    kmeans = KMeans(n_clusters=i, init='k-means++', random_state=42)\n",
    "    kmeans.fit(df_clustering_labeled_scaled)\n",
    "    wcss.append(kmeans.inertia_)\n",
    "\n",
    "plt.plot(range(1, max_clusters + 1), wcss)\n",
    "plt.show()"
   ]
  },
  {
   "cell_type": "markdown",
   "id": "cb07d928-2b88-4771-a21c-e29d4a5fa6e7",
   "metadata": {},
   "source": [
    "### Hierarchical clustering"
   ]
  },
  {
   "cell_type": "code",
   "execution_count": 9,
   "id": "206e76db-3ce2-4987-91e6-72ece1062b41",
   "metadata": {},
   "outputs": [
    {
     "data": {
      "image/png": "[encoded data removed]",
      "text/plain": [
       "<Figure size 432x288 with 1 Axes>"
      ]
     },
     "metadata": {
      "needs_background": "light"
     },
     "output_type": "display_data"
    }
   ],
   "source": [
    "dendrogram = sch.dendrogram(sch.linkage(df_clustering_labeled_scaled, method='ward'))\n",
    "plt.title('Dendrogram')\n",
    "plt.ylabel('Euclidean distance')\n",
    "plt.show()"
   ]
  },
  {
   "cell_type": "markdown",
   "id": "cb08d6e4-a3ab-402c-b646-35fe882a6669",
   "metadata": {},
   "source": [
    "Again, the dendrogram validates our previous findings."
   ]
  },
  {
   "cell_type": "markdown",
   "id": "57567345-105c-4e0f-b423-b3d93a92f004",
   "metadata": {},
   "source": [
    "## Evaluating the expert labels"
   ]
  },
  {
   "cell_type": "markdown",
   "id": "08468552-6d56-4d9d-8f54-3bb38362ea53",
   "metadata": {},
   "source": [
    "As identified previously, the number of lables we have is four while the optimal number seems to be three. We therefore need to investigate which two labels to combine."
   ]
  },
  {
   "cell_type": "code",
   "execution_count": 14,
   "id": "72b9bbdd-c7a4-46b5-88bb-71064bfb31c3",
   "metadata": {},
   "outputs": [],
   "source": [
    "expert_labels = df_preprocessed.dropna(subset=['label', 'sensor_0']).reset_index(drop=True).label.astype('int32')"
   ]
  },
  {
   "cell_type": "code",
   "execution_count": 15,
   "id": "0de37d53-0700-4e53-88f4-2f07aebe6839",
   "metadata": {},
   "outputs": [],
   "source": [
    "kmeans = KMeans(n_clusters=4, init='k-means++', random_state=42)\n",
    "kmeans_labels = kmeans.fit_predict(df_clustering_labeled_scaled)"
   ]
  },
  {
   "cell_type": "code",
   "execution_count": 25,
   "id": "6c1024d6-cd3e-490f-97ee-ceb531d4e444",
   "metadata": {},
   "outputs": [
    {
     "data": {
      "text/plain": [
       "kmeans  expert\n",
       "1       1          179\n",
       "        2          219\n",
       "        3           34\n",
       "        4          342\n",
       "2       1          704\n",
       "        2           66\n",
       "        3          381\n",
       "        4           44\n",
       "3       1         1141\n",
       "        3          647\n",
       "        4            1\n",
       "4       1            5\n",
       "        2          719\n",
       "        4          669\n",
       "Name: expert, dtype: int64"
      ]
     },
     "execution_count": 25,
     "metadata": {},
     "output_type": "execute_result"
    }
   ],
   "source": [
    "pd.DataFrame({'kmeans': kmeans_labels + 1, 'expert': expert_labels}).groupby('kmeans')['expert'].value_counts(dropna=False).sort_index()"
   ]
  },
  {
   "cell_type": "code",
   "execution_count": 17,
   "id": "c904cd88-97ad-40e5-9a35-06997e148561",
   "metadata": {},
   "outputs": [
    {
     "data": {
      "text/plain": [
       "expert  kmeans\n",
       "1       2         1141\n",
       "        1          704\n",
       "        0          179\n",
       "        3            5\n",
       "2       3          719\n",
       "        0          219\n",
       "        1           66\n",
       "3       2          647\n",
       "        1          381\n",
       "        0           34\n",
       "4       3          669\n",
       "        0          342\n",
       "        1           44\n",
       "        2            1\n",
       "Name: kmeans, dtype: int64"
      ]
     },
     "execution_count": 17,
     "metadata": {},
     "output_type": "execute_result"
    }
   ],
   "source": [
    "pd.DataFrame({'kmeans': kmeans_labels, 'expert': expert_labels}).groupby('expert')['kmeans'].value_counts(dropna=False)"
   ]
  },
  {
   "cell_type": "code",
   "execution_count": 23,
   "id": "50b0672a-8b5c-4f16-a023-1f1565d7b5aa",
   "metadata": {},
   "outputs": [],
   "source": [
    "from sklearn.metrics import confusion_matrix"
   ]
  },
  {
   "cell_type": "code",
   "execution_count": 24,
   "id": "111e4ec0-de07-47a3-b415-96cd36f6f33c",
   "metadata": {},
   "outputs": [
    {
     "name": "stderr",
     "output_type": "stream",
     "text": [
      "/Users/carl.mattsson/.pyenv/versions/pdn-monitoring/lib/python3.8/site-packages/sklearn/utils/validation.py:70: FutureWarning: Pass labels=[1, 2, 3, 4] as keyword args. From version 1.0 (renaming of 0.25) passing these as positional arguments will result in an error\n",
      "  warnings.warn(f\"Pass {args_msg} as keyword args. From version \"\n",
      "<ipython-input-24-d7a33fcbe098>:8: UserWarning: FixedFormatter should only be used together with FixedLocator\n",
      "  ax.set_xticklabels([''] + labels)\n",
      "<ipython-input-24-d7a33fcbe098>:9: UserWarning: FixedFormatter should only be used together with FixedLocator\n",
      "  ax.set_yticklabels([''] + labels)\n"
     ]
    },
    {
     "data": {
      "image/png": "[encoded data removed]",
      "text/plain": [
       "<Figure size 432x288 with 2 Axes>"
      ]
     },
     "metadata": {
      "needs_background": "light"
     },
     "output_type": "display_data"
    }
   ],
   "source": [
    "labels = [1, 2, 3, 4]\n",
    "cm = confusion_matrix(expert_labels, kmeans_labels + 1, labels)\n",
    "fig = plt.figure()\n",
    "ax = fig.add_subplot(111)\n",
    "cax = ax.matshow(cm)\n",
    "plt.title('Confusion matrix of the classifier')\n",
    "fig.colorbar(cax)\n",
    "ax.set_xticklabels([''] + labels)\n",
    "ax.set_yticklabels([''] + labels)\n",
    "plt.xlabel('K-Means')\n",
    "plt.ylabel('Expert')\n",
    "plt.show()"
   ]
  },
  {
   "cell_type": "markdown",
   "id": "b3bdb83c-483b-45df-b481-c86a036aec6c",
   "metadata": {},
   "source": [
    "## MISC"
   ]
  },
  {
   "cell_type": "code",
   "execution_count": 36,
   "id": "9726f9fc-3404-42d6-bb65-62c84daa4990",
   "metadata": {},
   "outputs": [],
   "source": [
    "df_clustering = df_preprocessed.iloc[:, :21].dropna()\n",
    "sc = StandardScaler()\n",
    "df_clustering_scaled = pd.DataFrame(sc.fit_transform(df_clustering), columns=df_clustering.columns)"
   ]
  },
  {
   "cell_type": "code",
   "execution_count": 30,
   "id": "85c57ba7-c1d3-4a6e-af2a-dd68a1e57906",
   "metadata": {},
   "outputs": [],
   "source": [
    "expert_labels = df_preprocessed.dropna(subset=['label', 'sensor_0']).label.astype('int32')"
   ]
  },
  {
   "cell_type": "code",
   "execution_count": 38,
   "id": "0a3c9724-d6be-4a5e-9179-bd481d0b2f2d",
   "metadata": {},
   "outputs": [],
   "source": [
    "kmeans = KMeans(n_clusters=4, init='k-means++', random_state=42)\n",
    "kmeans_labels = kmeans.fit_predict(df_clustering_scaled)"
   ]
  },
  {
   "cell_type": "code",
   "execution_count": 40,
   "id": "702d16ad-2d1b-4a0f-bf30-f06f40e340d2",
   "metadata": {},
   "outputs": [],
   "source": [
    "df_clustering_scaled['label_kmeans'] = kmeans_labels"
   ]
  },
  {
   "cell_type": "code",
   "execution_count": 47,
   "id": "ac85daa6-1e20-4211-a5ae-ab0b20657c3e",
   "metadata": {},
   "outputs": [],
   "source": [
    "df_compare = df_clustering_scaled.join(expert_labels, how='inner')"
   ]
  },
  {
   "cell_type": "code",
   "execution_count": 48,
   "id": "4bc1b024-f262-4d73-9d5f-b1d5b1975a37",
   "metadata": {},
   "outputs": [
    {
     "data": {
      "text/html": [
       "<div>\n",
       "<style scoped>\n",
       "    .dataframe tbody tr th:only-of-type {\n",
       "        vertical-align: middle;\n",
       "    }\n",
       "\n",
       "    .dataframe tbody tr th {\n",
       "        vertical-align: top;\n",
       "    }\n",
       "\n",
       "    .dataframe thead th {\n",
       "        text-align: right;\n",
       "    }\n",
       "</style>\n",
       "<table border=\"1\" class=\"dataframe\">\n",
       "  <thead>\n",
       "    <tr style=\"text-align: right;\">\n",
       "      <th></th>\n",
       "      <th>voltage_fft_0</th>\n",
       "      <th>voltage_fft_1</th>\n",
       "      <th>voltage_fft_2</th>\n",
       "      <th>voltage_fft_3</th>\n",
       "      <th>voltage_fft_4</th>\n",
       "      <th>voltage_fft_5</th>\n",
       "      <th>voltage_fft_6</th>\n",
       "      <th>voltage_fft_7</th>\n",
       "      <th>voltage_fft_8</th>\n",
       "      <th>voltage_fft_9</th>\n",
       "      <th>...</th>\n",
       "      <th>current_fft_3</th>\n",
       "      <th>current_fft_4</th>\n",
       "      <th>current_fft_5</th>\n",
       "      <th>current_fft_6</th>\n",
       "      <th>current_fft_7</th>\n",
       "      <th>current_fft_8</th>\n",
       "      <th>current_fft_9</th>\n",
       "      <th>sensor_0</th>\n",
       "      <th>label_kmeans</th>\n",
       "      <th>label</th>\n",
       "    </tr>\n",
       "  </thead>\n",
       "  <tbody>\n",
       "    <tr>\n",
       "      <th>9</th>\n",
       "      <td>-0.383374</td>\n",
       "      <td>0.831238</td>\n",
       "      <td>0.391470</td>\n",
       "      <td>-1.976569</td>\n",
       "      <td>-1.638557</td>\n",
       "      <td>-0.346817</td>\n",
       "      <td>1.139077</td>\n",
       "      <td>-0.528768</td>\n",
       "      <td>0.890706</td>\n",
       "      <td>-0.348617</td>\n",
       "      <td>...</td>\n",
       "      <td>-0.472856</td>\n",
       "      <td>-0.705552</td>\n",
       "      <td>-1.064638</td>\n",
       "      <td>0.400340</td>\n",
       "      <td>0.595601</td>\n",
       "      <td>0.776907</td>\n",
       "      <td>0.625127</td>\n",
       "      <td>-1.651146</td>\n",
       "      <td>1</td>\n",
       "      <td>1</td>\n",
       "    </tr>\n",
       "    <tr>\n",
       "      <th>10</th>\n",
       "      <td>-0.575821</td>\n",
       "      <td>-1.535943</td>\n",
       "      <td>0.600364</td>\n",
       "      <td>-0.043698</td>\n",
       "      <td>-0.259315</td>\n",
       "      <td>-1.072516</td>\n",
       "      <td>-0.488090</td>\n",
       "      <td>0.240787</td>\n",
       "      <td>0.654750</td>\n",
       "      <td>0.112596</td>\n",
       "      <td>...</td>\n",
       "      <td>-0.096198</td>\n",
       "      <td>-0.012991</td>\n",
       "      <td>-0.778723</td>\n",
       "      <td>-0.646957</td>\n",
       "      <td>-0.376927</td>\n",
       "      <td>0.335396</td>\n",
       "      <td>-2.685308</td>\n",
       "      <td>1.072286</td>\n",
       "      <td>3</td>\n",
       "      <td>2</td>\n",
       "    </tr>\n",
       "    <tr>\n",
       "      <th>13</th>\n",
       "      <td>-0.383374</td>\n",
       "      <td>-5.881079</td>\n",
       "      <td>-1.515348</td>\n",
       "      <td>-0.823242</td>\n",
       "      <td>-0.665350</td>\n",
       "      <td>-0.253698</td>\n",
       "      <td>-1.014473</td>\n",
       "      <td>-1.752356</td>\n",
       "      <td>-2.108026</td>\n",
       "      <td>-2.005121</td>\n",
       "      <td>...</td>\n",
       "      <td>-0.856331</td>\n",
       "      <td>-0.871922</td>\n",
       "      <td>-1.513806</td>\n",
       "      <td>-0.253683</td>\n",
       "      <td>0.058653</td>\n",
       "      <td>-1.151852</td>\n",
       "      <td>-0.433248</td>\n",
       "      <td>-0.026147</td>\n",
       "      <td>3</td>\n",
       "      <td>3</td>\n",
       "    </tr>\n",
       "    <tr>\n",
       "      <th>29</th>\n",
       "      <td>0.193965</td>\n",
       "      <td>0.900085</td>\n",
       "      <td>-0.712703</td>\n",
       "      <td>-0.556066</td>\n",
       "      <td>0.156851</td>\n",
       "      <td>-0.092163</td>\n",
       "      <td>1.837045</td>\n",
       "      <td>-0.568190</td>\n",
       "      <td>0.405506</td>\n",
       "      <td>1.798257</td>\n",
       "      <td>...</td>\n",
       "      <td>-0.835024</td>\n",
       "      <td>-0.505839</td>\n",
       "      <td>-0.047699</td>\n",
       "      <td>0.972522</td>\n",
       "      <td>0.584984</td>\n",
       "      <td>0.630774</td>\n",
       "      <td>1.569089</td>\n",
       "      <td>-0.392637</td>\n",
       "      <td>2</td>\n",
       "      <td>1</td>\n",
       "    </tr>\n",
       "    <tr>\n",
       "      <th>32</th>\n",
       "      <td>0.193965</td>\n",
       "      <td>0.726687</td>\n",
       "      <td>0.818384</td>\n",
       "      <td>0.578545</td>\n",
       "      <td>-0.060449</td>\n",
       "      <td>0.888248</td>\n",
       "      <td>1.339474</td>\n",
       "      <td>-0.170270</td>\n",
       "      <td>-0.075507</td>\n",
       "      <td>-0.082293</td>\n",
       "      <td>...</td>\n",
       "      <td>0.435785</td>\n",
       "      <td>0.677789</td>\n",
       "      <td>-1.169177</td>\n",
       "      <td>0.644546</td>\n",
       "      <td>-1.717456</td>\n",
       "      <td>-1.238224</td>\n",
       "      <td>-0.117769</td>\n",
       "      <td>0.693510</td>\n",
       "      <td>0</td>\n",
       "      <td>2</td>\n",
       "    </tr>\n",
       "    <tr>\n",
       "      <th>...</th>\n",
       "      <td>...</td>\n",
       "      <td>...</td>\n",
       "      <td>...</td>\n",
       "      <td>...</td>\n",
       "      <td>...</td>\n",
       "      <td>...</td>\n",
       "      <td>...</td>\n",
       "      <td>...</td>\n",
       "      <td>...</td>\n",
       "      <td>...</td>\n",
       "      <td>...</td>\n",
       "      <td>...</td>\n",
       "      <td>...</td>\n",
       "      <td>...</td>\n",
       "      <td>...</td>\n",
       "      <td>...</td>\n",
       "      <td>...</td>\n",
       "      <td>...</td>\n",
       "      <td>...</td>\n",
       "      <td>...</td>\n",
       "      <td>...</td>\n",
       "    </tr>\n",
       "    <tr>\n",
       "      <th>51540</th>\n",
       "      <td>1.925983</td>\n",
       "      <td>0.540928</td>\n",
       "      <td>1.238880</td>\n",
       "      <td>1.966010</td>\n",
       "      <td>0.241490</td>\n",
       "      <td>0.261113</td>\n",
       "      <td>0.873175</td>\n",
       "      <td>0.836874</td>\n",
       "      <td>0.126996</td>\n",
       "      <td>-0.353434</td>\n",
       "      <td>...</td>\n",
       "      <td>-0.149071</td>\n",
       "      <td>1.087444</td>\n",
       "      <td>-0.126201</td>\n",
       "      <td>0.534946</td>\n",
       "      <td>-0.065285</td>\n",
       "      <td>0.597875</td>\n",
       "      <td>1.700876</td>\n",
       "      <td>1.215103</td>\n",
       "      <td>0</td>\n",
       "      <td>1</td>\n",
       "    </tr>\n",
       "    <tr>\n",
       "      <th>51541</th>\n",
       "      <td>-0.768267</td>\n",
       "      <td>-0.614283</td>\n",
       "      <td>0.668058</td>\n",
       "      <td>0.154747</td>\n",
       "      <td>-1.219291</td>\n",
       "      <td>0.036312</td>\n",
       "      <td>-0.601455</td>\n",
       "      <td>-0.519159</td>\n",
       "      <td>-0.411472</td>\n",
       "      <td>-0.552117</td>\n",
       "      <td>...</td>\n",
       "      <td>0.537066</td>\n",
       "      <td>-1.210006</td>\n",
       "      <td>0.132568</td>\n",
       "      <td>-0.385599</td>\n",
       "      <td>-0.678554</td>\n",
       "      <td>0.285805</td>\n",
       "      <td>-0.919607</td>\n",
       "      <td>-0.082178</td>\n",
       "      <td>3</td>\n",
       "      <td>4</td>\n",
       "    </tr>\n",
       "    <tr>\n",
       "      <th>51542</th>\n",
       "      <td>-0.575821</td>\n",
       "      <td>-1.211002</td>\n",
       "      <td>0.658908</td>\n",
       "      <td>0.856004</td>\n",
       "      <td>1.946655</td>\n",
       "      <td>-0.810957</td>\n",
       "      <td>0.764321</td>\n",
       "      <td>1.229218</td>\n",
       "      <td>-1.287373</td>\n",
       "      <td>2.280675</td>\n",
       "      <td>...</td>\n",
       "      <td>0.781434</td>\n",
       "      <td>2.119524</td>\n",
       "      <td>-0.750489</td>\n",
       "      <td>1.081301</td>\n",
       "      <td>0.650370</td>\n",
       "      <td>0.606900</td>\n",
       "      <td>0.039443</td>\n",
       "      <td>-0.129340</td>\n",
       "      <td>0</td>\n",
       "      <td>3</td>\n",
       "    </tr>\n",
       "    <tr>\n",
       "      <th>51548</th>\n",
       "      <td>-1.153160</td>\n",
       "      <td>0.888908</td>\n",
       "      <td>-1.700323</td>\n",
       "      <td>0.135046</td>\n",
       "      <td>-1.092285</td>\n",
       "      <td>1.050139</td>\n",
       "      <td>-0.746094</td>\n",
       "      <td>-1.105744</td>\n",
       "      <td>0.347808</td>\n",
       "      <td>-1.089614</td>\n",
       "      <td>...</td>\n",
       "      <td>0.246822</td>\n",
       "      <td>-1.458387</td>\n",
       "      <td>-0.185198</td>\n",
       "      <td>0.659318</td>\n",
       "      <td>-0.331191</td>\n",
       "      <td>-0.100336</td>\n",
       "      <td>-0.559401</td>\n",
       "      <td>0.048021</td>\n",
       "      <td>1</td>\n",
       "      <td>2</td>\n",
       "    </tr>\n",
       "    <tr>\n",
       "      <th>51560</th>\n",
       "      <td>-0.960714</td>\n",
       "      <td>0.844388</td>\n",
       "      <td>-1.620622</td>\n",
       "      <td>0.224543</td>\n",
       "      <td>-0.635738</td>\n",
       "      <td>-0.349216</td>\n",
       "      <td>2.013823</td>\n",
       "      <td>-1.376888</td>\n",
       "      <td>-1.532741</td>\n",
       "      <td>0.255884</td>\n",
       "      <td>...</td>\n",
       "      <td>0.644060</td>\n",
       "      <td>-0.437320</td>\n",
       "      <td>-0.784769</td>\n",
       "      <td>1.052586</td>\n",
       "      <td>-1.347590</td>\n",
       "      <td>-2.303126</td>\n",
       "      <td>-0.758192</td>\n",
       "      <td>0.054684</td>\n",
       "      <td>1</td>\n",
       "      <td>4</td>\n",
       "    </tr>\n",
       "  </tbody>\n",
       "</table>\n",
       "<p>5089 rows × 23 columns</p>\n",
       "</div>"
      ],
      "text/plain": [
       "       voltage_fft_0  voltage_fft_1  voltage_fft_2  voltage_fft_3  \\\n",
       "9          -0.383374       0.831238       0.391470      -1.976569   \n",
       "10         -0.575821      -1.535943       0.600364      -0.043698   \n",
       "13         -0.383374      -5.881079      -1.515348      -0.823242   \n",
       "29          0.193965       0.900085      -0.712703      -0.556066   \n",
       "32          0.193965       0.726687       0.818384       0.578545   \n",
       "...              ...            ...            ...            ...   \n",
       "51540       1.925983       0.540928       1.238880       1.966010   \n",
       "51541      -0.768267      -0.614283       0.668058       0.154747   \n",
       "51542      -0.575821      -1.211002       0.658908       0.856004   \n",
       "51548      -1.153160       0.888908      -1.700323       0.135046   \n",
       "51560      -0.960714       0.844388      -1.620622       0.224543   \n",
       "\n",
       "       voltage_fft_4  voltage_fft_5  voltage_fft_6  voltage_fft_7  \\\n",
       "9          -1.638557      -0.346817       1.139077      -0.528768   \n",
       "10         -0.259315      -1.072516      -0.488090       0.240787   \n",
       "13         -0.665350      -0.253698      -1.014473      -1.752356   \n",
       "29          0.156851      -0.092163       1.837045      -0.568190   \n",
       "32         -0.060449       0.888248       1.339474      -0.170270   \n",
       "...              ...            ...            ...            ...   \n",
       "51540       0.241490       0.261113       0.873175       0.836874   \n",
       "51541      -1.219291       0.036312      -0.601455      -0.519159   \n",
       "51542       1.946655      -0.810957       0.764321       1.229218   \n",
       "51548      -1.092285       1.050139      -0.746094      -1.105744   \n",
       "51560      -0.635738      -0.349216       2.013823      -1.376888   \n",
       "\n",
       "       voltage_fft_8  voltage_fft_9  ...  current_fft_3  current_fft_4  \\\n",
       "9           0.890706      -0.348617  ...      -0.472856      -0.705552   \n",
       "10          0.654750       0.112596  ...      -0.096198      -0.012991   \n",
       "13         -2.108026      -2.005121  ...      -0.856331      -0.871922   \n",
       "29          0.405506       1.798257  ...      -0.835024      -0.505839   \n",
       "32         -0.075507      -0.082293  ...       0.435785       0.677789   \n",
       "...              ...            ...  ...            ...            ...   \n",
       "51540       0.126996      -0.353434  ...      -0.149071       1.087444   \n",
       "51541      -0.411472      -0.552117  ...       0.537066      -1.210006   \n",
       "51542      -1.287373       2.280675  ...       0.781434       2.119524   \n",
       "51548       0.347808      -1.089614  ...       0.246822      -1.458387   \n",
       "51560      -1.532741       0.255884  ...       0.644060      -0.437320   \n",
       "\n",
       "       current_fft_5  current_fft_6  current_fft_7  current_fft_8  \\\n",
       "9          -1.064638       0.400340       0.595601       0.776907   \n",
       "10         -0.778723      -0.646957      -0.376927       0.335396   \n",
       "13         -1.513806      -0.253683       0.058653      -1.151852   \n",
       "29         -0.047699       0.972522       0.584984       0.630774   \n",
       "32         -1.169177       0.644546      -1.717456      -1.238224   \n",
       "...              ...            ...            ...            ...   \n",
       "51540      -0.126201       0.534946      -0.065285       0.597875   \n",
       "51541       0.132568      -0.385599      -0.678554       0.285805   \n",
       "51542      -0.750489       1.081301       0.650370       0.606900   \n",
       "51548      -0.185198       0.659318      -0.331191      -0.100336   \n",
       "51560      -0.784769       1.052586      -1.347590      -2.303126   \n",
       "\n",
       "       current_fft_9  sensor_0  label_kmeans  label  \n",
       "9           0.625127 -1.651146             1      1  \n",
       "10         -2.685308  1.072286             3      2  \n",
       "13         -0.433248 -0.026147             3      3  \n",
       "29          1.569089 -0.392637             2      1  \n",
       "32         -0.117769  0.693510             0      2  \n",
       "...              ...       ...           ...    ...  \n",
       "51540       1.700876  1.215103             0      1  \n",
       "51541      -0.919607 -0.082178             3      4  \n",
       "51542       0.039443 -0.129340             0      3  \n",
       "51548      -0.559401  0.048021             1      2  \n",
       "51560      -0.758192  0.054684             1      4  \n",
       "\n",
       "[5089 rows x 23 columns]"
      ]
     },
     "execution_count": 48,
     "metadata": {},
     "output_type": "execute_result"
    }
   ],
   "source": [
    "df_compare"
   ]
  },
  {
   "cell_type": "code",
   "execution_count": 51,
   "id": "95df1cf8-b7a1-4fc9-97eb-25f58bc23063",
   "metadata": {},
   "outputs": [
    {
     "name": "stderr",
     "output_type": "stream",
     "text": [
      "<ipython-input-51-534b3e0c51ed>:8: UserWarning: FixedFormatter should only be used together with FixedLocator\n",
      "  ax.set_xticklabels([''] + labels)\n",
      "<ipython-input-51-534b3e0c51ed>:9: UserWarning: FixedFormatter should only be used together with FixedLocator\n",
      "  ax.set_yticklabels([''] + labels)\n"
     ]
    },
    {
     "data": {
      "image/png": "[encoded data removed]",
      "text/plain": [
       "<Figure size 432x288 with 2 Axes>"
      ]
     },
     "metadata": {
      "needs_background": "light"
     },
     "output_type": "display_data"
    }
   ],
   "source": [
    "labels = [1, 2, 3, 4]\n",
    "cm = confusion_matrix(df_compare.label, df_compare.label_kmeans + 1)\n",
    "fig = plt.figure()\n",
    "ax = fig.add_subplot(111)\n",
    "cax = ax.matshow(cm)\n",
    "plt.title('Confusion matrix of the classifier')\n",
    "fig.colorbar(cax)\n",
    "ax.set_xticklabels([''] + labels)\n",
    "ax.set_yticklabels([''] + labels)\n",
    "plt.xlabel('K-Means')\n",
    "plt.ylabel('Expert')\n",
    "plt.show()"
   ]
  },
  {
   "cell_type": "code",
   "execution_count": 52,
   "id": "474c43dd-83a1-4fd2-bd42-023e4a22f21c",
   "metadata": {},
   "outputs": [
    {
     "data": {
      "text/plain": [
       "label_kmeans  label\n",
       "0             1        569\n",
       "              2        257\n",
       "              3        274\n",
       "              4        268\n",
       "1             1        472\n",
       "              2        224\n",
       "              3        246\n",
       "              4        231\n",
       "2             1        672\n",
       "              2        349\n",
       "              3        348\n",
       "              4        389\n",
       "3             1        291\n",
       "              2        156\n",
       "              3        183\n",
       "              4        160\n",
       "Name: label, dtype: int64"
      ]
     },
     "execution_count": 52,
     "metadata": {},
     "output_type": "execute_result"
    }
   ],
   "source": [
    "df_compare.groupby('label_kmeans')['label'].value_counts(dropna=False).sort_index()"
   ]
  },
  {
   "cell_type": "code",
   "execution_count": null,
   "id": "71c866c0-885a-4104-bd15-961905f27416",
   "metadata": {},
   "outputs": [],
   "source": []
  }
 ],
 "metadata": {
  "kernelspec": {
   "display_name": "pdn-monitoring",
   "language": "python",
   "name": "pdn-monitoring"
  },
  "language_info": {
   "codemirror_mode": {
    "name": "ipython",
    "version": 3
   },
   "file_extension": ".py",
   "mimetype": "text/x-python",
   "name": "python",
   "nbconvert_exporter": "python",
   "pygments_lexer": "ipython3",
   "version": "3.8.9"
  }
 },
 "nbformat": 4,
 "nbformat_minor": 5
}
