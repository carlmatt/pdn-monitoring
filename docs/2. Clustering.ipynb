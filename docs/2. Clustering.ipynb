{
 "cells": [
  {
   "cell_type": "markdown",
   "id": "1c5159ae-313d-4b12-a567-cef5eb1bdb0a",
   "metadata": {},
   "source": [
    "# 2. Clustering"
   ]
  },
  {
   "cell_type": "code",
   "execution_count": 1,
   "id": "e75d5fb2-32e5-46ee-9b97-1762f2dc8a6c",
   "metadata": {},
   "outputs": [],
   "source": [
    "import matplotlib.pyplot as plt\n",
    "import numpy as np\n",
    "import pandas as pd\n",
    "import seaborn as sns\n",
    "\n",
    "import scipy.cluster.hierarchy as sch\n",
    "from sklearn.cluster import KMeans\n",
    "from sklearn.metrics import confusion_matrix\n",
    "from sklearn.preprocessing import StandardScaler"
   ]
  },
  {
   "cell_type": "code",
   "execution_count": 2,
   "id": "1decd7a7-e6cc-4be9-8764-c58cecf29450",
   "metadata": {},
   "outputs": [],
   "source": [
    "df_in = pd.read_parquet('data/ml_dataset_preprocessed.parquet')"
   ]
  },
  {
   "cell_type": "markdown",
   "id": "a13cce54-35ad-4956-b4be-50961068c074",
   "metadata": {},
   "source": [
    "The expert has generated four different labels. In order to test that this is reasonable, and also in order to evaluate the labeling of the expert, I will use clustering to study what number of states would be appropriate.\n",
    "\n",
    "In the clustering, I use the Fourier Transformed voltage and current data. In addition, I will use the sensor_0 data as it seems to be correlated with the states. I will not use sensor_1 ... sensor_5 as they don't seem to include much relevant information for our purpose.\n",
    "\n",
    "I will perform the cluster on both the full dataset, and on the labeled dataset only."
   ]
  },
  {
   "cell_type": "markdown",
   "id": "b4c033f7-6a68-45ef-8077-9b93b348541f",
   "metadata": {},
   "source": [
    "## The full dataset"
   ]
  },
  {
   "cell_type": "markdown",
   "id": "e15fa11c-72de-4a0f-a4c0-a6a5f17915c8",
   "metadata": {},
   "source": [
    "The full dataset consists of both labeled and unlabeled data. Some data points have been dropped as they contained empty values. See the preprocessing document for more details."
   ]
  },
  {
   "cell_type": "code",
   "execution_count": 3,
   "id": "05378ac2-997d-4a37-9e0f-2e929a8bb8e1",
   "metadata": {},
   "outputs": [],
   "source": [
    "df_clustering_full = df_in.iloc[:, 2:6]"
   ]
  },
  {
   "cell_type": "code",
   "execution_count": 4,
   "id": "611c5ebf-1202-4a48-8c67-b0513c546d47",
   "metadata": {},
   "outputs": [
    {
     "name": "stdout",
     "output_type": "stream",
     "text": [
      "<class 'pandas.core.frame.DataFrame'>\n",
      "RangeIndex: 51577 entries, 0 to 51576\n",
      "Data columns (total 4 columns):\n",
      " #   Column            Non-Null Count  Dtype  \n",
      "---  ------            --------------  -----  \n",
      " 0   voltage_freq_100  51577 non-null  float64\n",
      " 1   current_freq_50   51577 non-null  float64\n",
      " 2   current_freq_100  51577 non-null  float64\n",
      " 3   sensor_0          51577 non-null  float64\n",
      "dtypes: float64(4)\n",
      "memory usage: 1.6 MB\n"
     ]
    }
   ],
   "source": [
    "df_clustering_full.info()"
   ]
  },
  {
   "cell_type": "markdown",
   "id": "899d9784-ec6a-4f51-90a0-494bc6aaf4f9",
   "metadata": {},
   "source": [
    "I standardize the data as the sensor data is on a different scale from the voltage and current data."
   ]
  },
  {
   "cell_type": "code",
   "execution_count": 5,
   "id": "51041b64-0939-4172-8b44-4edbdce5396e",
   "metadata": {},
   "outputs": [],
   "source": [
    "sc = StandardScaler()\n",
    "df_clustering_full_scaled = pd.DataFrame(sc.fit_transform(df_clustering_full), columns=df_clustering_full.columns)"
   ]
  },
  {
   "cell_type": "markdown",
   "id": "7a9ee2de-adfe-4f08-8d8f-8ca0af09b1e7",
   "metadata": {},
   "source": [
    "### K-Means Clustering"
   ]
  },
  {
   "cell_type": "markdown",
   "id": "34e08aba-b540-432e-827a-a814059fbf22",
   "metadata": {},
   "source": [
    "My primary choice of clustering method is K-Means Clustering. To determine the appropriate number of clusters, the \"elbow method\" will be used. The elbow method is described in detail in [this Wikipedia article](https://en.wikipedia.org/wiki/Elbow_method_(clustering)). WCSS below stands for \"within-clusters sum of squares\"."
   ]
  },
  {
   "cell_type": "code",
   "execution_count": 6,
   "id": "ef78a39d-93ca-4212-8cf8-8d13b9116e4a",
   "metadata": {},
   "outputs": [
    {
     "data": {
      "image/png": "[encoded data removed]",
      "text/plain": [
       "<Figure size 432x288 with 1 Axes>"
      ]
     },
     "metadata": {
      "needs_background": "light"
     },
     "output_type": "display_data"
    }
   ],
   "source": [
    "wcss = []\n",
    "max_clusters = 10\n",
    "for i in range(1, max_clusters + 1):\n",
    "    kmeans = KMeans(n_clusters=i, init='k-means++', random_state=42)\n",
    "    kmeans.fit(df_clustering_full_scaled)\n",
    "    wcss.append(kmeans.inertia_)\n",
    "\n",
    "plt.plot(range(1, max_clusters + 1), wcss)\n",
    "plt.show()"
   ]
  },
  {
   "cell_type": "markdown",
   "id": "4075b79a-523f-4a2c-93a0-f713c8773487",
   "metadata": {},
   "source": [
    "Based on the elbow method, using four labels does not seem justifiable. The \"elbow\" is at two clusters. It could also be argued that three clusters can be used, but four clusters does not seem sensible."
   ]
  },
  {
   "cell_type": "markdown",
   "id": "e7dda250-b76b-426d-affd-68be258d259d",
   "metadata": {},
   "source": [
    "### Hierarchical clustering"
   ]
  },
  {
   "cell_type": "markdown",
   "id": "27973124-b6bd-4fc8-bf45-32a3457ba5ec",
   "metadata": {},
   "source": [
    "In this exercise, I will only use hierarchical clustering to validate (or invalidate) our K-Means Clustering findings. I will inspect the dendrogram of the hierarchical clustering, and use Euclidean distances to determine what the appropriate amount of clusters should be. I will use the Ward variance minimization algorithm. For more information, see [SciPy's documentation](https://docs.scipy.org/doc/scipy/reference/generated/scipy.cluster.hierarchy.linkage.html).\n",
    "\n",
    "Running this with the full dataset takes some time."
   ]
  },
  {
   "cell_type": "code",
   "execution_count": 7,
   "id": "d65df3ad-d02e-4956-ad16-c22667ec17f7",
   "metadata": {},
   "outputs": [
    {
     "data": {
      "image/png": "[encoded data removed]",
      "text/plain": [
       "<Figure size 432x288 with 1 Axes>"
      ]
     },
     "metadata": {
      "needs_background": "light"
     },
     "output_type": "display_data"
    }
   ],
   "source": [
    "dendrogram = sch.dendrogram(sch.linkage(df_clustering_full_scaled, method='ward'))\n",
    "plt.title('Dendrogram')\n",
    "plt.ylabel('Euclidean distance')\n",
    "plt.show()"
   ]
  },
  {
   "cell_type": "markdown",
   "id": "169a08c1-b73f-4b86-be65-e5ed1b0d87f0",
   "metadata": {},
   "source": [
    "The dendrogram partially validates my K-Means Clustering findings. The optimal number of clusters is probably two, but could be three. However, it is probably not four."
   ]
  },
  {
   "cell_type": "markdown",
   "id": "4b9b8a99-3afa-4de3-8dbd-0e443e6fe925",
   "metadata": {},
   "source": [
    "## The labeled dataset"
   ]
  },
  {
   "cell_type": "markdown",
   "id": "7e24add5-26e6-4395-bf38-7cd59e0f337b",
   "metadata": {},
   "source": [
    "I repeat the exercise above with using labeled data only."
   ]
  },
  {
   "cell_type": "markdown",
   "id": "944fa06e-8cb7-4fd2-8f1d-c898800cba9f",
   "metadata": {},
   "source": [
    "### K-Means Clustering"
   ]
  },
  {
   "cell_type": "code",
   "execution_count": 8,
   "id": "7c4f830a-78c8-4293-bbc7-989d0badcecc",
   "metadata": {},
   "outputs": [],
   "source": [
    "df_clustering_labeled = df_in.dropna().iloc[:, 2:6]"
   ]
  },
  {
   "cell_type": "code",
   "execution_count": 9,
   "id": "4c323a1f-4184-4739-950c-654bd1f44c83",
   "metadata": {},
   "outputs": [
    {
     "name": "stdout",
     "output_type": "stream",
     "text": [
      "<class 'pandas.core.frame.DataFrame'>\n",
      "Int64Index: 5151 entries, 9 to 51574\n",
      "Data columns (total 4 columns):\n",
      " #   Column            Non-Null Count  Dtype  \n",
      "---  ------            --------------  -----  \n",
      " 0   voltage_freq_100  5151 non-null   float64\n",
      " 1   current_freq_50   5151 non-null   float64\n",
      " 2   current_freq_100  5151 non-null   float64\n",
      " 3   sensor_0          5151 non-null   float64\n",
      "dtypes: float64(4)\n",
      "memory usage: 201.2 KB\n"
     ]
    }
   ],
   "source": [
    "df_clustering_labeled.info()"
   ]
  },
  {
   "cell_type": "code",
   "execution_count": 10,
   "id": "fba82a1d-1649-4a22-a90c-d8310c94a2e6",
   "metadata": {},
   "outputs": [],
   "source": [
    "sc = StandardScaler()\n",
    "df_clustering_labeled_scaled = pd.DataFrame(sc.fit_transform(df_clustering_labeled), columns=df_clustering_labeled.columns)"
   ]
  },
  {
   "cell_type": "code",
   "execution_count": 11,
   "id": "8be23598-0648-4a6b-a2b9-99d0789fb22b",
   "metadata": {},
   "outputs": [
    {
     "data": {
      "image/png": "[encoded data removed]",
      "text/plain": [
       "<Figure size 432x288 with 1 Axes>"
      ]
     },
     "metadata": {
      "needs_background": "light"
     },
     "output_type": "display_data"
    }
   ],
   "source": [
    "wcss = []\n",
    "max_clusters = 10\n",
    "for i in range(1, max_clusters + 1):\n",
    "    kmeans = KMeans(n_clusters=i, init='k-means++', random_state=42)\n",
    "    kmeans.fit(df_clustering_labeled_scaled)\n",
    "    wcss.append(kmeans.inertia_)\n",
    "\n",
    "plt.plot(range(1, max_clusters + 1), wcss)\n",
    "plt.show()"
   ]
  },
  {
   "cell_type": "markdown",
   "id": "c27cfc6c-7509-4824-bcb9-d3678a3094a5",
   "metadata": {},
   "source": [
    "Using the more limited dataset does not change my conclusion."
   ]
  },
  {
   "cell_type": "markdown",
   "id": "cb07d928-2b88-4771-a21c-e29d4a5fa6e7",
   "metadata": {},
   "source": [
    "### Hierarchical clustering"
   ]
  },
  {
   "cell_type": "code",
   "execution_count": 12,
   "id": "206e76db-3ce2-4987-91e6-72ece1062b41",
   "metadata": {},
   "outputs": [
    {
     "data": {
      "image/png": "[encoded data removed]",
      "text/plain": [
       "<Figure size 432x288 with 1 Axes>"
      ]
     },
     "metadata": {
      "needs_background": "light"
     },
     "output_type": "display_data"
    }
   ],
   "source": [
    "dendrogram = sch.dendrogram(sch.linkage(df_clustering_labeled_scaled, method='ward'))\n",
    "plt.title('Dendrogram')\n",
    "plt.ylabel('Euclidean distance')\n",
    "plt.show()"
   ]
  },
  {
   "cell_type": "markdown",
   "id": "cb08d6e4-a3ab-402c-b646-35fe882a6669",
   "metadata": {},
   "source": [
    "Again, the dendrogram validates my previous findings."
   ]
  },
  {
   "cell_type": "markdown",
   "id": "57567345-105c-4e0f-b423-b3d93a92f004",
   "metadata": {},
   "source": [
    "## Evaluating the expert labels"
   ]
  },
  {
   "cell_type": "markdown",
   "id": "08468552-6d56-4d9d-8f54-3bb38362ea53",
   "metadata": {},
   "source": [
    "As identified previously, the number of lables we have is four while the optimal number seems to be two, or potentially three. I therefore need to investigate how to combine the expert clusters, and evaluate how well the expert has identified anomalies (i.e. non-label 1)."
   ]
  },
  {
   "cell_type": "code",
   "execution_count": 13,
   "id": "a1c5339e-3b41-4737-ac59-7a49a0320207",
   "metadata": {},
   "outputs": [],
   "source": [
    "df_labeled = df_in.dropna().reset_index(drop=True)"
   ]
  },
  {
   "cell_type": "markdown",
   "id": "59229668-20c4-4189-b55a-6b1956bd1693",
   "metadata": {},
   "source": [
    "### Using two clusters"
   ]
  },
  {
   "cell_type": "markdown",
   "id": "538c1a97-8387-4f9b-bd1d-907a2d7aa305",
   "metadata": {},
   "source": [
    "We start with using two clusters. I perform the clustering and then print the confusion matrix. Since K-Means clusters start from 0, I add 1 to the K-Means cluster in the confusion matrix to make the results more representable."
   ]
  },
  {
   "cell_type": "code",
   "execution_count": 14,
   "id": "25615f4b-6747-4432-91f1-c4627c45ee5a",
   "metadata": {},
   "outputs": [],
   "source": [
    "kmeans = KMeans(n_clusters=2, init='k-means++', random_state=42)\n",
    "kmeans_labels = kmeans.fit_predict(df_labeled.iloc[:, 2:6])\n",
    "\n",
    "df_labeled['label'] = df_labeled['label'].astype('int32')\n",
    "df_labeled['label_kmeans'] = kmeans_labels"
   ]
  },
  {
   "cell_type": "code",
   "execution_count": 15,
   "id": "8516dd8d-3d31-4472-8ec2-d403888a7c7c",
   "metadata": {},
   "outputs": [
    {
     "name": "stdout",
     "output_type": "stream",
     "text": [
      "[[ 790    0 1055    0]\n",
      " [1239 1004    7 1056]\n",
      " [   0    0    0    0]\n",
      " [   0    0    0    0]]\n"
     ]
    }
   ],
   "source": [
    "print(confusion_matrix(df_labeled.label_kmeans + 1, df_labeled.label))"
   ]
  },
  {
   "cell_type": "markdown",
   "id": "b1d2de16-3feb-4bdf-892a-fb71c9ec7f70",
   "metadata": {},
   "source": [
    "On the horizontal level, we have the expert labels. Label 1 is the first column, label 2 the second, etc. On the vertical level, we have the two K-Means clusters.\n",
    "\n",
    "If we were to use two clusters, the expert labels 1, 2 and 4 should be merged. That would leave us with only one anomaly: label 3.\n",
    "\n",
    "The results also indicate that the expert could have made a pretty poor job in identifying the expected state, i.e. label 1. If we assume that label 3 is the only anomaly, approximately 39% of the expected states have been incorrectly classified.\n",
    "\n",
    "If we, however, would decide that labels 1 and 3 are the expected state, and 2 and 4 are the anomalies, 61% of the expected states would have been incorrectly classified.\n",
    "\n",
    "Given such a high level of potentially incorrect classifications, it would be good to investigate the clustering further. Such an investigation will not be performed here, however, so not to use too much time on this exercise."
   ]
  },
  {
   "cell_type": "markdown",
   "id": "54365482-3382-4bff-8ac9-3f4f38e5b50e",
   "metadata": {},
   "source": [
    "### Using three clusters"
   ]
  },
  {
   "cell_type": "markdown",
   "id": "39f26d02-159a-460b-9dcd-2b9281492973",
   "metadata": {},
   "source": [
    "I then move on to using three clusters."
   ]
  },
  {
   "cell_type": "code",
   "execution_count": 16,
   "id": "6ee8103a-97e2-4b5e-8892-580b77d906b1",
   "metadata": {},
   "outputs": [],
   "source": [
    "kmeans = KMeans(n_clusters=3, init='k-means++', random_state=42)\n",
    "kmeans_labels = kmeans.fit_predict(df_labeled.iloc[:, 2:6])\n",
    "\n",
    "df_labeled['label'] = df_labeled['label'].astype('int32')\n",
    "df_labeled['label_kmeans'] = kmeans_labels"
   ]
  },
  {
   "cell_type": "code",
   "execution_count": 17,
   "id": "3132b410-fb6d-4067-aa68-f9d60338b698",
   "metadata": {},
   "outputs": [
    {
     "name": "stdout",
     "output_type": "stream",
     "text": [
      "[[1975   79   39  132]\n",
      " [   8  925    0  924]\n",
      " [  46    0 1023    0]\n",
      " [   0    0    0    0]]\n"
     ]
    }
   ],
   "source": [
    "print(confusion_matrix(df_labeled.label_kmeans + 1, df_labeled.label))"
   ]
  },
  {
   "cell_type": "markdown",
   "id": "eb086c90-71e9-4a0e-9a28-a533363f30e3",
   "metadata": {},
   "source": [
    "In this case, the expert labels are again on the horizontal axis, while the K-Means clusters are on rows 1, 2 and 3 respectively.\n",
    "\n",
    "When inspecting the three-cluster confusion matrix, it seems to be more sensible to use three clusters rather than two, unless we think that the expert is not very good at his job. The three-cluster results suggest that labels 2 and 4 could be combined, and that we would end up with labels 1 (expected state), 3 and 2+4.\n",
    "\n",
    "In such a case, the error rate of the expert is much lower."
   ]
  },
  {
   "cell_type": "markdown",
   "id": "4cc49d9e-0710-4205-9d5f-0d35bffcf048",
   "metadata": {},
   "source": [
    "### Using four clusters"
   ]
  },
  {
   "cell_type": "markdown",
   "id": "1e916841-ecaf-40d6-97b6-a74a6d8cb5e3",
   "metadata": {},
   "source": [
    "Using four clusters allows us to most clearly evaluate the performance of the expert. We will see if the K-Means algorithm agrees with the expert's discretion."
   ]
  },
  {
   "cell_type": "code",
   "execution_count": 18,
   "id": "fb7f7895-def0-46fb-82f5-6133fa4a691e",
   "metadata": {},
   "outputs": [],
   "source": [
    "kmeans = KMeans(n_clusters=4, init='k-means++', random_state=42)\n",
    "kmeans_labels = kmeans.fit_predict(df_labeled.iloc[:, 2:6])\n",
    "\n",
    "df_labeled['label'] = df_labeled['label'].astype('int32')\n",
    "df_labeled['label_kmeans'] = kmeans_labels"
   ]
  },
  {
   "cell_type": "code",
   "execution_count": 19,
   "id": "2853ecd0-0182-4b4f-91d2-93d5eb487d01",
   "metadata": {},
   "outputs": [
    {
     "name": "stdout",
     "output_type": "stream",
     "text": [
      "[[ 947    0   39    0]\n",
      " [   1  799    0  840]\n",
      " [  11    0 1023    0]\n",
      " [1070  205    0  216]]\n"
     ]
    }
   ],
   "source": [
    "print(confusion_matrix(df_labeled.label_kmeans + 1, df_labeled.label))"
   ]
  },
  {
   "cell_type": "markdown",
   "id": "517c05be-bd8a-48fb-a5a6-476e8f74bdee",
   "metadata": {},
   "source": [
    "The expert's tabels are again on the horizontal axis, and the algorithm's labels on the vertical axis.\n",
    "\n",
    "We see that while many of the observations fall on the diagonal of the confusion matrix (which would indicate that the clustering algorithm and expert agrees), there are also many observations that don't fall on the horizontal axis.\n",
    "\n",
    "More precisely 2985 observations out of 5151, or approximately 58% are on the diagonal. This in turns indicates that 42% of the observations have been misclassified.\n",
    "\n",
    "Again, given the fairly large error, this would justify a more thorough examination of the clusters. In an attempt to keep this brief, I will not carry out such an exercise here."
   ]
  },
  {
   "cell_type": "markdown",
   "id": "993de3bd-997d-47fd-adb9-820c026fef0c",
   "metadata": {},
   "source": [
    "### Bonus: Using five clusters"
   ]
  },
  {
   "cell_type": "code",
   "execution_count": 20,
   "id": "4c643fea-7943-476e-9f0c-caba3642ee87",
   "metadata": {},
   "outputs": [],
   "source": [
    "kmeans = KMeans(n_clusters=5, init='k-means++', random_state=42)\n",
    "kmeans_labels = kmeans.fit_predict(df_labeled.iloc[:, 2:6])\n",
    "\n",
    "df_labeled['label'] = df_labeled['label'].astype('int32')\n",
    "df_labeled['label_kmeans'] = kmeans_labels"
   ]
  },
  {
   "cell_type": "code",
   "execution_count": 21,
   "id": "56723fed-83d0-4bf8-8d85-0556dc39eed4",
   "metadata": {},
   "outputs": [
    {
     "name": "stdout",
     "output_type": "stream",
     "text": [
      "[[  26  627    0  484    0]\n",
      " [  11    0 1023    0    0]\n",
      " [ 945    0   39    0    0]\n",
      " [1047   69    0   93    0]\n",
      " [   0  308    0  479    0]]\n"
     ]
    }
   ],
   "source": [
    "print(confusion_matrix(df_labeled.label_kmeans + 1, df_labeled.label))"
   ]
  },
  {
   "cell_type": "markdown",
   "id": "940d845a-1264-42ae-8c54-72b8591e92a3",
   "metadata": {},
   "source": [
    "Five clusters doesn't seem sensible based on these results, as the first and the last cluster produced by the K-Means algorithm are very similar, and so is the third and fourth."
   ]
  },
  {
   "cell_type": "markdown",
   "id": "b18fd585-33b5-41b9-998a-016988da46cc",
   "metadata": {},
   "source": [
    "## Conclusion"
   ]
  },
  {
   "cell_type": "markdown",
   "id": "dba796e2-0c8b-45f7-8ffe-731f2635a0d0",
   "metadata": {},
   "source": [
    "Given the analysis above, the most appropriate number of labels seems to be three. It can also be argued that the most optimal number is two.\n",
    "\n",
    "In either case, this analysis indicates that the expert labels should be investigated more closely."
   ]
  }
 ],
 "metadata": {
  "kernelspec": {
   "display_name": "pdn-monitoring",
   "language": "python",
   "name": "pdn-monitoring"
  },
  "language_info": {
   "codemirror_mode": {
    "name": "ipython",
    "version": 3
   },
   "file_extension": ".py",
   "mimetype": "text/x-python",
   "name": "python",
   "nbconvert_exporter": "python",
   "pygments_lexer": "ipython3",
   "version": "3.8.9"
  }
 },
 "nbformat": 4,
 "nbformat_minor": 5
}
